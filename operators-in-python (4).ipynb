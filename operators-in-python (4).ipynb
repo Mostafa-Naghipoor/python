{
 "cells": [
  {
   "cell_type": "code",
   "execution_count": 1,
   "id": "e7c05574",
   "metadata": {
    "_cell_guid": "b1076dfc-b9ad-4769-8c92-a6c4dae69d19",
    "_uuid": "8f2839f25d086af736a60e9eeb907d3b93b6e0e5",
    "execution": {
     "iopub.execute_input": "2021-10-14T20:30:45.425126Z",
     "iopub.status.busy": "2021-10-14T20:30:45.424050Z",
     "iopub.status.idle": "2021-10-14T20:30:45.433551Z",
     "shell.execute_reply": "2021-10-14T20:30:45.434004Z",
     "shell.execute_reply.started": "2021-10-14T20:29:37.078033Z"
    },
    "papermill": {
     "duration": 0.028972,
     "end_time": "2021-10-14T20:30:45.434306",
     "exception": false,
     "start_time": "2021-10-14T20:30:45.405334",
     "status": "completed"
    },
    "tags": []
   },
   "outputs": [],
   "source": [
    "# This Python 3 environment comes with many helpful analytics libraries installed\n",
    "# It is defined by the kaggle/python Docker image: https://github.com/kaggle/docker-python\n",
    "# For example, here's several helpful packages to load\n",
    "\n",
    "import numpy as np # linear algebra\n",
    "import pandas as pd # data processing, CSV file I/O (e.g. pd.read_csv)\n",
    "\n",
    "# Input data files are available in the read-only \"../input/\" directory\n",
    "# For example, running this (by clicking run or pressing Shift+Enter) will list all files under the input directory\n",
    "\n",
    "import os\n",
    "for dirname, _, filenames in os.walk('/kaggle/input'):\n",
    "    for filename in filenames:\n",
    "        print(os.path.join(dirname, filename))\n",
    "\n",
    "# You can write up to 20GB to the current directory (/kaggle/working/) that gets preserved as output when you create a version using \"Save & Run All\" \n",
    "# You can also write temporary files to /kaggle/temp/, but they won't be saved outside of the current session"
   ]
  },
  {
   "cell_type": "code",
   "execution_count": 2,
   "id": "b1bf6ad7",
   "metadata": {
    "execution": {
     "iopub.execute_input": "2021-10-14T20:30:45.467917Z",
     "iopub.status.busy": "2021-10-14T20:30:45.467356Z",
     "iopub.status.idle": "2021-10-14T20:30:45.471680Z",
     "shell.execute_reply": "2021-10-14T20:30:45.472433Z",
     "shell.execute_reply.started": "2021-10-14T20:29:37.115955Z"
    },
    "papermill": {
     "duration": 0.021725,
     "end_time": "2021-10-14T20:30:45.472642",
     "exception": false,
     "start_time": "2021-10-14T20:30:45.450917",
     "status": "completed"
    },
    "tags": []
   },
   "outputs": [
    {
     "name": "stdout",
     "output_type": "stream",
     "text": [
      "Arithmetic Operators\n"
     ]
    }
   ],
   "source": [
    "print('Arithmetic Operators')"
   ]
  },
  {
   "cell_type": "code",
   "execution_count": 3,
   "id": "c4d97c20",
   "metadata": {
    "execution": {
     "iopub.execute_input": "2021-10-14T20:30:45.508215Z",
     "iopub.status.busy": "2021-10-14T20:30:45.507545Z",
     "iopub.status.idle": "2021-10-14T20:30:45.510948Z",
     "shell.execute_reply": "2021-10-14T20:30:45.510500Z",
     "shell.execute_reply.started": "2021-10-14T20:29:37.129875Z"
    },
    "papermill": {
     "duration": 0.022261,
     "end_time": "2021-10-14T20:30:45.511086",
     "exception": false,
     "start_time": "2021-10-14T20:30:45.488825",
     "status": "completed"
    },
    "tags": []
   },
   "outputs": [
    {
     "name": "stdout",
     "output_type": "stream",
     "text": [
      "4\n",
      "2\n"
     ]
    }
   ],
   "source": [
    "# addition and subtraction\n",
    "print(1 + 3)\n",
    "print(5 - 3)"
   ]
  },
  {
   "cell_type": "code",
   "execution_count": 4,
   "id": "5866e2cc",
   "metadata": {
    "execution": {
     "iopub.execute_input": "2021-10-14T20:30:45.545197Z",
     "iopub.status.busy": "2021-10-14T20:30:45.544590Z",
     "iopub.status.idle": "2021-10-14T20:30:45.547390Z",
     "shell.execute_reply": "2021-10-14T20:30:45.547825Z",
     "shell.execute_reply.started": "2021-10-14T20:29:37.146209Z"
    },
    "papermill": {
     "duration": 0.022062,
     "end_time": "2021-10-14T20:30:45.547982",
     "exception": false,
     "start_time": "2021-10-14T20:30:45.525920",
     "status": "completed"
    },
    "tags": []
   },
   "outputs": [
    {
     "name": "stdout",
     "output_type": "stream",
     "text": [
      "6\n",
      "1.5\n"
     ]
    }
   ],
   "source": [
    "#Multiplication and dividion\n",
    "print(2 * 3)\n",
    "print(3 / 2)"
   ]
  },
  {
   "cell_type": "code",
   "execution_count": 5,
   "id": "be843c05",
   "metadata": {
    "execution": {
     "iopub.execute_input": "2021-10-14T20:30:45.583358Z",
     "iopub.status.busy": "2021-10-14T20:30:45.582670Z",
     "iopub.status.idle": "2021-10-14T20:30:45.586203Z",
     "shell.execute_reply": "2021-10-14T20:30:45.585672Z",
     "shell.execute_reply.started": "2021-10-14T20:29:37.158024Z"
    },
    "papermill": {
     "duration": 0.023077,
     "end_time": "2021-10-14T20:30:45.586326",
     "exception": false,
     "start_time": "2021-10-14T20:30:45.563249",
     "status": "completed"
    },
    "tags": []
   },
   "outputs": [
    {
     "name": "stdout",
     "output_type": "stream",
     "text": [
      "8\n",
      "1\n",
      "1\n"
     ]
    }
   ],
   "source": [
    "#Exponentiation\n",
    "print(2 ** 3)      \n",
    "print(0 ** 0)      \n",
    "print(6 ** 0)"
   ]
  },
  {
   "cell_type": "code",
   "execution_count": 6,
   "id": "fd6e46cf",
   "metadata": {
    "execution": {
     "iopub.execute_input": "2021-10-14T20:30:45.621395Z",
     "iopub.status.busy": "2021-10-14T20:30:45.620733Z",
     "iopub.status.idle": "2021-10-14T20:30:45.624391Z",
     "shell.execute_reply": "2021-10-14T20:30:45.623598Z",
     "shell.execute_reply.started": "2021-10-14T20:29:37.170257Z"
    },
    "papermill": {
     "duration": 0.022999,
     "end_time": "2021-10-14T20:30:45.624587",
     "exception": false,
     "start_time": "2021-10-14T20:30:45.601588",
     "status": "completed"
    },
    "tags": []
   },
   "outputs": [
    {
     "name": "stdout",
     "output_type": "stream",
     "text": [
      "2\n",
      "1\n"
     ]
    }
   ],
   "source": [
    "#Remainder and int division\n",
    "print(17 % 5)\n",
    "\n",
    "print(3 // 2)"
   ]
  },
  {
   "cell_type": "code",
   "execution_count": 7,
   "id": "bba94499",
   "metadata": {
    "execution": {
     "iopub.execute_input": "2021-10-14T20:30:45.662139Z",
     "iopub.status.busy": "2021-10-14T20:30:45.661287Z",
     "iopub.status.idle": "2021-10-14T20:30:45.665143Z",
     "shell.execute_reply": "2021-10-14T20:30:45.664658Z",
     "shell.execute_reply.started": "2021-10-14T20:29:37.184032Z"
    },
    "papermill": {
     "duration": 0.023991,
     "end_time": "2021-10-14T20:30:45.665272",
     "exception": false,
     "start_time": "2021-10-14T20:30:45.641281",
     "status": "completed"
    },
    "tags": []
   },
   "outputs": [
    {
     "name": "stdout",
     "output_type": "stream",
     "text": [
      "Operator Precedence\n",
      "2\n",
      "7.0\n",
      "2.0\n",
      "256\n"
     ]
    }
   ],
   "source": [
    "\n",
    "print('Operator Precedence')\n",
    "\n",
    "print(8 - 2 * 3)                 \n",
    "print(1 + 3 * 4 / 2)               \n",
    "print(16 / 2 ** 3)                  \n",
    "print(2**2**3)                      "
   ]
  },
  {
   "cell_type": "code",
   "execution_count": 8,
   "id": "03c2582c",
   "metadata": {
    "execution": {
     "iopub.execute_input": "2021-10-14T20:30:45.703147Z",
     "iopub.status.busy": "2021-10-14T20:30:45.702574Z",
     "iopub.status.idle": "2021-10-14T20:30:45.704966Z",
     "shell.execute_reply": "2021-10-14T20:30:45.705437Z",
     "shell.execute_reply.started": "2021-10-14T20:29:37.196352Z"
    },
    "papermill": {
     "duration": 0.023801,
     "end_time": "2021-10-14T20:30:45.705593",
     "exception": false,
     "start_time": "2021-10-14T20:30:45.681792",
     "status": "completed"
    },
    "tags": []
   },
   "outputs": [
    {
     "name": "stdout",
     "output_type": "stream",
     "text": [
      "Augmented Assignment Operator\n",
      "6\n",
      "4\n"
     ]
    }
   ],
   "source": [
    "print('Augmented Assignment Operator')\n",
    "\n",
    "x = 4\n",
    "x += 2   \n",
    "print(x)  \n",
    "\n",
    "y = 8\n",
    "y //= 2  \n",
    "print(y)  "
   ]
  },
  {
   "cell_type": "code",
   "execution_count": 9,
   "id": "b484ac13",
   "metadata": {
    "execution": {
     "iopub.execute_input": "2021-10-14T20:30:45.743356Z",
     "iopub.status.busy": "2021-10-14T20:30:45.742781Z",
     "iopub.status.idle": "2021-10-14T20:30:45.749139Z",
     "shell.execute_reply": "2021-10-14T20:30:45.748695Z",
     "shell.execute_reply.started": "2021-10-14T20:29:37.208445Z"
    },
    "papermill": {
     "duration": 0.025443,
     "end_time": "2021-10-14T20:30:45.749270",
     "exception": false,
     "start_time": "2021-10-14T20:30:45.723827",
     "status": "completed"
    },
    "tags": []
   },
   "outputs": [
    {
     "name": "stdout",
     "output_type": "stream",
     "text": [
      "Comparison Operators\n",
      "False\n",
      "True\n",
      "True\n"
     ]
    }
   ],
   "source": [
    "\n",
    "print('Comparison Operators')\n",
    "\n",
    "print(2 == 3)                      \n",
    "print(2 != 3)                       \n",
    "print(2 < 3)                        "
   ]
  },
  {
   "cell_type": "code",
   "execution_count": 10,
   "id": "5481b4cb",
   "metadata": {
    "execution": {
     "iopub.execute_input": "2021-10-14T20:30:45.787200Z",
     "iopub.status.busy": "2021-10-14T20:30:45.786623Z",
     "iopub.status.idle": "2021-10-14T20:30:45.790614Z",
     "shell.execute_reply": "2021-10-14T20:30:45.791392Z",
     "shell.execute_reply.started": "2021-10-14T20:29:37.222337Z"
    },
    "papermill": {
     "duration": 0.025967,
     "end_time": "2021-10-14T20:30:45.791683",
     "exception": false,
     "start_time": "2021-10-14T20:30:45.765716",
     "status": "completed"
    },
    "tags": []
   },
   "outputs": [
    {
     "name": "stdout",
     "output_type": "stream",
     "text": [
      "Logical Operators\n",
      "True\n",
      "False\n",
      "False\n"
     ]
    }
   ],
   "source": [
    "\n",
    "\n",
    "print('Logical Operators') \n",
    "\n",
    "print(1<3  or 4>5)                  \n",
    "print(1<3 and 4>5)                  \n",
    "print(not 1<3)                      "
   ]
  },
  {
   "cell_type": "code",
   "execution_count": 11,
   "id": "05522c29",
   "metadata": {
    "execution": {
     "iopub.execute_input": "2021-10-14T20:30:45.829156Z",
     "iopub.status.busy": "2021-10-14T20:30:45.828567Z",
     "iopub.status.idle": "2021-10-14T20:30:45.833165Z",
     "shell.execute_reply": "2021-10-14T20:30:45.833848Z",
     "shell.execute_reply.started": "2021-10-14T20:29:37.234695Z"
    },
    "papermill": {
     "duration": 0.024572,
     "end_time": "2021-10-14T20:30:45.834055",
     "exception": false,
     "start_time": "2021-10-14T20:30:45.809483",
     "status": "completed"
    },
    "tags": []
   },
   "outputs": [
    {
     "name": "stdout",
     "output_type": "stream",
     "text": [
      "False\n"
     ]
    }
   ],
   "source": [
    "# 'Short-circuit'\n",
    "print(1 >= 2 and (5/0) > 2)"
   ]
  },
  {
   "cell_type": "code",
   "execution_count": 12,
   "id": "1dc62d62",
   "metadata": {
    "execution": {
     "iopub.execute_input": "2021-10-14T20:30:45.871866Z",
     "iopub.status.busy": "2021-10-14T20:30:45.871277Z",
     "iopub.status.idle": "2021-10-14T20:30:45.877163Z",
     "shell.execute_reply": "2021-10-14T20:30:45.876683Z",
     "shell.execute_reply.started": "2021-10-14T20:29:37.249162Z"
    },
    "papermill": {
     "duration": 0.025546,
     "end_time": "2021-10-14T20:30:45.877283",
     "exception": false,
     "start_time": "2021-10-14T20:30:45.851737",
     "status": "completed"
    },
    "tags": []
   },
   "outputs": [
    {
     "name": "stdout",
     "output_type": "stream",
     "text": [
      "Membership Operators\n",
      "True\n",
      "True\n"
     ]
    }
   ],
   "source": [
    "print('Membership Operators')\n",
    "\n",
    "x = [1,2,3,4,5]\n",
    "print(3 in x)                      \n",
    "print(24 not in x) "
   ]
  },
  {
   "cell_type": "code",
   "execution_count": 13,
   "id": "001efb76",
   "metadata": {
    "execution": {
     "iopub.execute_input": "2021-10-14T20:30:45.914055Z",
     "iopub.status.busy": "2021-10-14T20:30:45.913508Z",
     "iopub.status.idle": "2021-10-14T20:30:45.920991Z",
     "shell.execute_reply": "2021-10-14T20:30:45.921369Z",
     "shell.execute_reply.started": "2021-10-14T20:29:37.264873Z"
    },
    "papermill": {
     "duration": 0.027386,
     "end_time": "2021-10-14T20:30:45.921551",
     "exception": false,
     "start_time": "2021-10-14T20:30:45.894165",
     "status": "completed"
    },
    "tags": []
   },
   "outputs": [
    {
     "name": "stdout",
     "output_type": "stream",
     "text": [
      "Bitwise Operators\n",
      "0b1101\n",
      "0b1110\n",
      "0b1111\n",
      "0b1100\n",
      "0b11\n",
      "26\n",
      "10\n",
      "4\n"
     ]
    }
   ],
   "source": [
    "\n",
    "print('Bitwise Operators')\n",
    "\n",
    "a = 13\n",
    "print(bin(a))                       \n",
    "\n",
    "b = 14\n",
    "print(bin(b))                      \n",
    "\n",
    "###\n",
    "\n",
    "c = a | b\n",
    "print(bin(c))                      \n",
    "\n",
    "###\n",
    "\n",
    "c = a & b\n",
    "print(bin(c))                      \n",
    "\n",
    "###\n",
    "\n",
    "c= a ^ b\n",
    "print(bin(c))                      \n",
    "\n",
    "###\n",
    "\n",
    "a = 13\n",
    "print(a << 1)                      \n",
    "\n",
    "###\n",
    "\n",
    "a = 20\n",
    "print(a >> 1)                     \n",
    "\n",
    "###\n",
    "\n",
    "a = 18\n",
    "print(a >> 2)                     "
   ]
  },
  {
   "cell_type": "code",
   "execution_count": 14,
   "id": "3a937c23",
   "metadata": {
    "execution": {
     "iopub.execute_input": "2021-10-14T20:30:45.960710Z",
     "iopub.status.busy": "2021-10-14T20:30:45.960108Z",
     "iopub.status.idle": "2021-10-14T20:30:45.962260Z",
     "shell.execute_reply": "2021-10-14T20:30:45.962707Z",
     "shell.execute_reply.started": "2021-10-14T20:29:37.282163Z"
    },
    "papermill": {
     "duration": 0.024078,
     "end_time": "2021-10-14T20:30:45.962857",
     "exception": false,
     "start_time": "2021-10-14T20:30:45.938779",
     "status": "completed"
    },
    "tags": []
   },
   "outputs": [
    {
     "name": "stdout",
     "output_type": "stream",
     "text": [
      "Mostafa Naghipoor\n"
     ]
    }
   ],
   "source": [
    "\n",
    "\n",
    "s1 = 'Mostafa'\n",
    "s2 = ' Naghipoor'\n",
    "s3 = s1 + s2\n",
    "print(s3) "
   ]
  },
  {
   "cell_type": "code",
   "execution_count": 15,
   "id": "3f47ab3b",
   "metadata": {
    "execution": {
     "iopub.execute_input": "2021-10-14T20:30:46.002143Z",
     "iopub.status.busy": "2021-10-14T20:30:46.001584Z",
     "iopub.status.idle": "2021-10-14T20:30:46.004877Z",
     "shell.execute_reply": "2021-10-14T20:30:46.004089Z",
     "shell.execute_reply.started": "2021-10-14T20:29:37.299903Z"
    },
    "papermill": {
     "duration": 0.024529,
     "end_time": "2021-10-14T20:30:46.005054",
     "exception": false,
     "start_time": "2021-10-14T20:30:45.980525",
     "status": "completed"
    },
    "tags": []
   },
   "outputs": [
    {
     "name": "stdout",
     "output_type": "stream",
     "text": [
      "sarasara\n"
     ]
    }
   ],
   "source": [
    "s = 'sara'\n",
    "print(2*s)"
   ]
  },
  {
   "cell_type": "code",
   "execution_count": 16,
   "id": "e038e0b9",
   "metadata": {
    "execution": {
     "iopub.execute_input": "2021-10-14T20:30:46.046449Z",
     "iopub.status.busy": "2021-10-14T20:30:46.045810Z",
     "iopub.status.idle": "2021-10-14T20:30:46.051989Z",
     "shell.execute_reply": "2021-10-14T20:30:46.051095Z",
     "shell.execute_reply.started": "2021-10-14T20:29:37.312801Z"
    },
    "papermill": {
     "duration": 0.027744,
     "end_time": "2021-10-14T20:30:46.052371",
     "exception": false,
     "start_time": "2021-10-14T20:30:46.024627",
     "status": "completed"
    },
    "tags": []
   },
   "outputs": [
    {
     "name": "stdout",
     "output_type": "stream",
     "text": [
      "True\n",
      "False\n"
     ]
    }
   ],
   "source": [
    "#Every object in python is stored somewhere in memory. \n",
    "#We can use id() to get that memory address.\n",
    "\n",
    "s1 = 'Mostafa'\n",
    "s2 = 'Mostafa'\n",
    "print(id(s1)==id(s2))            \n",
    "\n",
    "s1 += ' Naghipoor'\n",
    "\n",
    "print(id(s1)==id(s2))"
   ]
  },
  {
   "cell_type": "code",
   "execution_count": 17,
   "id": "cf898156",
   "metadata": {
    "execution": {
     "iopub.execute_input": "2021-10-14T20:30:46.094106Z",
     "iopub.status.busy": "2021-10-14T20:30:46.093556Z",
     "iopub.status.idle": "2021-10-14T20:30:46.098823Z",
     "shell.execute_reply": "2021-10-14T20:30:46.098064Z",
     "shell.execute_reply.started": "2021-10-14T20:29:37.327889Z"
    },
    "papermill": {
     "duration": 0.027197,
     "end_time": "2021-10-14T20:30:46.098997",
     "exception": false,
     "start_time": "2021-10-14T20:30:46.071800",
     "status": "completed"
    },
    "tags": []
   },
   "outputs": [
    {
     "name": "stdout",
     "output_type": "stream",
     "text": [
      "\n",
      "4\n",
      "8\n",
      "(2, 0)\n",
      "3\n",
      "Return the absolute value of the argument.\n"
     ]
    }
   ],
   "source": [
    "print()\n",
    "\n",
    "print(abs(-4))             \n",
    "print(pow(2,3))           \n",
    "print(divmod(8,4))        \n",
    "print(round(2.6))        \n",
    "print(abs.__doc__)"
   ]
  },
  {
   "cell_type": "code",
   "execution_count": 18,
   "id": "22735048",
   "metadata": {
    "execution": {
     "iopub.execute_input": "2021-10-14T20:30:46.140236Z",
     "iopub.status.busy": "2021-10-14T20:30:46.139670Z",
     "iopub.status.idle": "2021-10-14T20:30:46.149756Z",
     "shell.execute_reply": "2021-10-14T20:30:46.149185Z",
     "shell.execute_reply.started": "2021-10-14T20:29:37.341679Z"
    },
    "papermill": {
     "duration": 0.031085,
     "end_time": "2021-10-14T20:30:46.149896",
     "exception": false,
     "start_time": "2021-10-14T20:30:46.118811",
     "status": "completed"
    },
    "tags": []
   },
   "outputs": [
    {
     "name": "stdout",
     "output_type": "stream",
     "text": [
      "2.0\n",
      "2\n",
      "2\n",
      "3\n",
      "24\n",
      "5.0\n",
      "2.0\n",
      "2.718281828459045\n",
      "3.4657359027997265\n",
      "-0.9589242746631385\n",
      "1.0\n",
      "2\n",
      "4.0\n",
      "4\n",
      "8.0\n",
      "8\n",
      "3.141592653589793\n",
      "3.14\n"
     ]
    }
   ],
   "source": [
    "import math\n",
    "print( math.sqrt(4))       \n",
    "print( math.trunc(2.3))   \n",
    "print( math.floor(2.3))    \n",
    "print( math.ceil(2.3))     \n",
    "print( math.factorial(4))  \n",
    "print( math.log2(32))     \n",
    "print( math.log10(100))    \n",
    "print( math.e)             \n",
    "print( math.log(32))       \n",
    "print( math.sin(5))        \n",
    "print( math.fmod(9,4))    \n",
    "print( math.gcd(30,4))     \n",
    "print( math.fabs(-4))      \n",
    "print( abs(-4))            \n",
    "print( math.pow(2,3))      \n",
    "print( pow(2,3))           \n",
    "print( math.pi)            \n",
    "print(f'{math.pi :.2f}')"
   ]
  },
  {
   "cell_type": "code",
   "execution_count": 19,
   "id": "eb8757bd",
   "metadata": {
    "execution": {
     "iopub.execute_input": "2021-10-14T20:30:46.192209Z",
     "iopub.status.busy": "2021-10-14T20:30:46.191531Z",
     "iopub.status.idle": "2021-10-14T20:30:46.194556Z",
     "shell.execute_reply": "2021-10-14T20:30:46.194991Z",
     "shell.execute_reply.started": "2021-10-14T20:29:37.360933Z"
    },
    "papermill": {
     "duration": 0.026603,
     "end_time": "2021-10-14T20:30:46.195141",
     "exception": false,
     "start_time": "2021-10-14T20:30:46.168538",
     "status": "completed"
    },
    "tags": []
   },
   "outputs": [
    {
     "name": "stdout",
     "output_type": "stream",
     "text": [
      "3\n",
      "1\n",
      "[3, 4, 1, 2]\n"
     ]
    }
   ],
   "source": [
    "import random\n",
    "print( random.randint(1, 5))  \n",
    "print( random.choice([1,5]))  \n",
    "a = [1,2,3,4]\n",
    "random.shuffle(a)\n",
    "print(a)\n"
   ]
  },
  {
   "cell_type": "code",
   "execution_count": 20,
   "id": "df769893",
   "metadata": {
    "execution": {
     "iopub.execute_input": "2021-10-14T20:30:46.240282Z",
     "iopub.status.busy": "2021-10-14T20:30:46.239190Z",
     "iopub.status.idle": "2021-10-14T20:30:46.242235Z",
     "shell.execute_reply": "2021-10-14T20:30:46.242673Z",
     "shell.execute_reply.started": "2021-10-14T20:29:37.375926Z"
    },
    "papermill": {
     "duration": 0.027938,
     "end_time": "2021-10-14T20:30:46.242836",
     "exception": false,
     "start_time": "2021-10-14T20:30:46.214898",
     "status": "completed"
    },
    "tags": []
   },
   "outputs": [
    {
     "name": "stdout",
     "output_type": "stream",
     "text": [
      "2021-10-14 20:30:46.236694\n",
      "2021\n",
      "10\n",
      "14\n"
     ]
    }
   ],
   "source": [
    "import datetime\n",
    "now = datetime.datetime.now()\n",
    "print(now)                     \n",
    "print( now.year)               \n",
    "print( now.month)              \n",
    "print( now.day) "
   ]
  },
  {
   "cell_type": "code",
   "execution_count": 21,
   "id": "3b4c773c",
   "metadata": {
    "execution": {
     "iopub.execute_input": "2021-10-14T20:30:46.284891Z",
     "iopub.status.busy": "2021-10-14T20:30:46.284000Z",
     "iopub.status.idle": "2021-10-14T20:30:46.288800Z",
     "shell.execute_reply": "2021-10-14T20:30:46.289236Z",
     "shell.execute_reply.started": "2021-10-14T20:29:37.388989Z"
    },
    "papermill": {
     "duration": 0.027523,
     "end_time": "2021-10-14T20:30:46.289424",
     "exception": false,
     "start_time": "2021-10-14T20:30:46.261901",
     "status": "completed"
    },
    "tags": []
   },
   "outputs": [
    {
     "name": "stdout",
     "output_type": "stream",
     "text": [
      "3.7.10 | packaged by conda-forge | (default, Feb 19 2021, 16:07:37) \n",
      "[GCC 9.3.0]\n",
      "linux\n"
     ]
    }
   ],
   "source": [
    "import sys\n",
    "print( sys.version)           \n",
    "print( sys.platform)"
   ]
  },
  {
   "cell_type": "code",
   "execution_count": 22,
   "id": "0cb92a66",
   "metadata": {
    "execution": {
     "iopub.execute_input": "2021-10-14T20:30:46.332109Z",
     "iopub.status.busy": "2021-10-14T20:30:46.331563Z",
     "iopub.status.idle": "2021-10-14T20:30:46.338664Z",
     "shell.execute_reply": "2021-10-14T20:30:46.338179Z",
     "shell.execute_reply.started": "2021-10-14T20:29:37.403335Z"
    },
    "papermill": {
     "duration": 0.028976,
     "end_time": "2021-10-14T20:30:46.338803",
     "exception": false,
     "start_time": "2021-10-14T20:30:46.309827",
     "status": "completed"
    },
    "tags": []
   },
   "outputs": [
    {
     "data": {
      "text/plain": [
       "'5.4.144+'"
      ]
     },
     "execution_count": 22,
     "metadata": {},
     "output_type": "execute_result"
    }
   ],
   "source": [
    "import platform\n",
    "platform.release() "
   ]
  },
  {
   "cell_type": "code",
   "execution_count": 23,
   "id": "f8d4dc06",
   "metadata": {
    "execution": {
     "iopub.execute_input": "2021-10-14T20:30:46.382376Z",
     "iopub.status.busy": "2021-10-14T20:30:46.381787Z",
     "iopub.status.idle": "2021-10-14T20:30:46.385442Z",
     "shell.execute_reply": "2021-10-14T20:30:46.384690Z",
     "shell.execute_reply.started": "2021-10-14T20:29:37.438963Z"
    },
    "papermill": {
     "duration": 0.027435,
     "end_time": "2021-10-14T20:30:46.385618",
     "exception": false,
     "start_time": "2021-10-14T20:30:46.358183",
     "status": "completed"
    },
    "tags": []
   },
   "outputs": [
    {
     "name": "stdout",
     "output_type": "stream",
     "text": [
      "/kaggle/working\n"
     ]
    }
   ],
   "source": [
    "import os \n",
    "print(os.getcwd())"
   ]
  }
 ],
 "metadata": {
  "kernelspec": {
   "display_name": "Python 3",
   "language": "python",
   "name": "python3"
  },
  "language_info": {
   "codemirror_mode": {
    "name": "ipython",
    "version": 3
   },
   "file_extension": ".py",
   "mimetype": "text/x-python",
   "name": "python",
   "nbconvert_exporter": "python",
   "pygments_lexer": "ipython3",
   "version": "3.7.10"
  },
  "papermill": {
   "default_parameters": {},
   "duration": 8.299801,
   "end_time": "2021-10-14T20:30:46.915912",
   "environment_variables": {},
   "exception": null,
   "input_path": "__notebook__.ipynb",
   "output_path": "__notebook__.ipynb",
   "parameters": {},
   "start_time": "2021-10-14T20:30:38.616111",
   "version": "2.3.3"
  }
 },
 "nbformat": 4,
 "nbformat_minor": 5
}
